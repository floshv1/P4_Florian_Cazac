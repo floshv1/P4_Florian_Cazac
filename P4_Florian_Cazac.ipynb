{
 "cells": [
  {
   "cell_type": "markdown",
   "metadata": {},
   "source": [
    "# P4_Florian_Cazac\n",
    "## Transportation problem\n",
    "\n",
    "1. Read an external file containing the parameters of a transportation problem LP problem\n",
    "2. Different methods can be used to find the initial feasible solution for the problem:\n",
    "    * Northwest corner rule\n",
    "    * Minimum cost method\n",
    "    * Minimum Row cost method\n",
    "    * Vogel's method\n",
    "3. the transportation simplex algorithm in an arbitrary transportation problem. "
   ]
  },
  {
   "cell_type": "code",
   "execution_count": null,
   "metadata": {},
   "outputs": [],
   "source": []
  }
 ],
 "metadata": {
  "language_info": {
   "name": "python"
  }
 },
 "nbformat": 4,
 "nbformat_minor": 2
}
