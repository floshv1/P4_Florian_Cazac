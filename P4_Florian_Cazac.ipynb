{
 "cells": [
  {
   "cell_type": "markdown",
   "metadata": {},
   "source": [
    "# P4_Florian_Cazac\n",
    "## Transportation problem\n",
    "\n",
    "1. Read an external file containing the parameters of a transportation problem LP problem\n",
    "2. Different methods can be used to find the initial feasible solution for the problem:\n",
    "    * Northwest corner rule\n",
    "    * Minimum cost method\n",
    "    * Minimum Row cost method\n",
    "    * Vogel's method\n",
    "3. the transportation simplex algorithm in an arbitrary transportation problem. "
   ]
  },
  {
   "cell_type": "code",
   "execution_count": 91,
   "metadata": {},
   "outputs": [],
   "source": [
    "import pandas as pd\n",
    "import numpy as np"
   ]
  },
  {
   "cell_type": "markdown",
   "metadata": {},
   "source": [
    "## 1. Read a file containing the parameters of a transportation problem LP problem"
   ]
  },
  {
   "cell_type": "code",
   "execution_count": 92,
   "metadata": {},
   "outputs": [],
   "source": [
    "filename = 'transportation_problem.csv'"
   ]
  },
  {
   "cell_type": "code",
   "execution_count": 93,
   "metadata": {},
   "outputs": [
    {
     "name": "stdout",
     "output_type": "stream",
     "text": [
      "         D1   D2   D3   D4  Supply\n",
      "\\                                 \n",
      "S1       12   13    4    6   500.0\n",
      "S2        6    4   10   11   700.0\n",
      "S3       10    9   12    4   800.0\n",
      "Demand  400  900  200  500     NaN\n",
      "Supply: [500. 700. 800.]\n",
      "Demand: [400. 900. 200. 500.]\n",
      "Cost: [[12 13  4  6]\n",
      " [ 6  4 10 11]\n",
      " [10  9 12  4]]\n"
     ]
    }
   ],
   "source": [
    "data = pd.read_csv(filename, index_col=0)\n",
    "print(data)\n",
    "\n",
    "supply = data['Supply'][:-1].to_numpy()\n",
    "demand = data.loc[\"Demand\"].drop(\"Supply\").to_numpy()\n",
    "cost = data.iloc[:-1, :-1].to_numpy()\n",
    "\n",
    "print(\"Supply:\", supply)\n",
    "print(\"Demand:\", demand)\n",
    "print(\"Cost:\", cost)\n"
   ]
  },
  {
   "cell_type": "markdown",
   "metadata": {},
   "source": [
    "## 2. Different methods can be used to find the initial feasible solution"
   ]
  },
  {
   "cell_type": "markdown",
   "metadata": {},
   "source": [
    "### 1. Northwest corner rule"
   ]
  },
  {
   "cell_type": "code",
   "execution_count": 94,
   "metadata": {},
   "outputs": [],
   "source": [
    "# North West Corner Method\n",
    "\n",
    "def north_west_corner(supply, demand):\n",
    "    supply = supply.copy()\n",
    "    demand = demand.copy()\n",
    "    i = 0\n",
    "    j = 0\n",
    "    allocation = np.zeros((supply.size, demand.size))\n",
    "    while i < supply.size and j < demand.size:\n",
    "        if supply[i] < demand[j]:\n",
    "            allocation[i][j] = supply[i]\n",
    "            demand[j] -= supply[i]\n",
    "            i += 1\n",
    "        else:\n",
    "            allocation[i][j] = demand[j]\n",
    "            supply[i] -= demand[j]\n",
    "            j += 1\n",
    "    return allocation\n",
    "\n",
    "def get_cost(allocation, cost):\n",
    "    return np.sum(allocation * cost)"
   ]
  },
  {
   "cell_type": "code",
   "execution_count": 95,
   "metadata": {},
   "outputs": [
    {
     "name": "stdout",
     "output_type": "stream",
     "text": [
      "NorthWest Corner Method\n",
      "[[400. 100.   0.   0.]\n",
      " [  0. 700.   0.   0.]\n",
      " [  0. 100. 200. 500.]]\n",
      "\n",
      "Cost:  14200.0\n"
     ]
    }
   ],
   "source": [
    "north_west_corner_allocation = north_west_corner(supply, demand)\n",
    "print(\"NorthWest Corner Method\")\n",
    "print(north_west_corner_allocation)\n",
    "print(\"\\nCost: \", get_cost(north_west_corner_allocation, cost))"
   ]
  },
  {
   "cell_type": "markdown",
   "metadata": {},
   "source": [
    "### 2. Minimum cost method"
   ]
  },
  {
   "cell_type": "code",
   "execution_count": 96,
   "metadata": {},
   "outputs": [],
   "source": [
    "# Minimum Cost Method\n",
    "\n",
    "def minimum_cost_method(supply, demand, costs):\n",
    "    supply = supply.copy()\n",
    "    demand = demand.copy()\n",
    "    allocation = np.zeros_like(costs, dtype=float)  # Allocation matrix\n",
    "    \n",
    "    # Get the indices of costs in ascending order\n",
    "    cost_indices = np.dstack(np.unravel_index(np.argsort(costs, axis=None), costs.shape))[0]\n",
    "    \n",
    "    for i, j in cost_indices:\n",
    "        if supply[i] == 0 or demand[j] == 0:  # Skip exhausted rows/columns\n",
    "            continue\n",
    "        \n",
    "        # Allocate as much as possible to the minimum cost cell\n",
    "        allocated = min(supply[i], demand[j])\n",
    "        allocation[i, j] = allocated\n",
    "        supply[i] -= allocated\n",
    "        demand[j] -= allocated\n",
    "    \n",
    "    return allocation\n"
   ]
  },
  {
   "cell_type": "code",
   "execution_count": 97,
   "metadata": {},
   "outputs": [
    {
     "name": "stdout",
     "output_type": "stream",
     "text": [
      "\n",
      "Minimum Cost Method\n",
      "[[300.   0. 200.   0.]\n",
      " [  0. 700.   0.   0.]\n",
      " [100. 200.   0. 500.]]\n",
      "\n",
      "Cost:  12000.0\n"
     ]
    }
   ],
   "source": [
    "minimum_cost_allocation = minimum_cost_method(supply, demand, cost)\n",
    "print(\"\\nMinimum Cost Method\")\n",
    "print(minimum_cost_allocation)\n",
    "print(\"\\nCost: \", get_cost(minimum_cost_allocation, cost))"
   ]
  },
  {
   "cell_type": "markdown",
   "metadata": {},
   "source": [
    "### 3. Minimum Row cost method"
   ]
  },
  {
   "cell_type": "code",
   "execution_count": 98,
   "metadata": {},
   "outputs": [],
   "source": [
    "def minimum_row_cost_method(supply, demand, cost_matrix):\n",
    "    \"\"\"\n",
    "    Solves the transportation problem using the Minimum Row Cost Method.\n",
    "    \n",
    "    Args:\n",
    "    cost_matrix (list of lists): The cost matrix (rows: suppliers, columns: destinations).\n",
    "    supply (list): Available supply at each source.\n",
    "    demand (list): Required demand at each destination.\n",
    "    \n",
    "    Returns:\n",
    "    allocation (2D list): Initial feasible allocation matrix.\n",
    "    \"\"\"\n",
    "    cost_matrix = np.array(cost_matrix, dtype=float)\n",
    "    supply = supply.copy()  # Avoid modifying the original list\n",
    "    demand = demand.copy()  # Avoid modifying the original list\n",
    "    rows, cols = cost_matrix.shape\n",
    "    allocation = np.zeros((rows, cols), dtype=float)\n",
    "    \n",
    "    for i in range(rows):\n",
    "        while supply[i] > 0:  # While there is supply at row i\n",
    "            # Find the column with the minimum cost in the current row\n",
    "            min_cost_index = np.argmin(cost_matrix[i, :])\n",
    "            \n",
    "            # Allocate as much as possible to the selected cell\n",
    "            allocation_quantity = min(supply[i], demand[min_cost_index])\n",
    "            allocation[i, min_cost_index] = allocation_quantity\n",
    "            \n",
    "            # Update supply and demand\n",
    "            supply[i] -= allocation_quantity\n",
    "            demand[min_cost_index] -= allocation_quantity\n",
    "            \n",
    "            # If demand is met, set the cost to infinity for that column\n",
    "            if demand[min_cost_index] == 0:\n",
    "                cost_matrix[:, min_cost_index] = np.inf\n",
    "\n",
    "    return allocation"
   ]
  },
  {
   "cell_type": "code",
   "execution_count": 99,
   "metadata": {},
   "outputs": [
    {
     "name": "stdout",
     "output_type": "stream",
     "text": [
      "\n",
      "Minimum Row Cost Method\n",
      "[[  0.   0. 200. 300.]\n",
      " [  0. 700.   0.   0.]\n",
      " [400. 200.   0. 200.]]\n",
      "\n",
      "Cost:  12000.0\n"
     ]
    }
   ],
   "source": [
    "minimum_row_cost_allocation = minimum_row_cost_method(supply, demand, cost)\n",
    "print(\"\\nMinimum Row Cost Method\")\n",
    "print(minimum_row_cost_allocation)\n",
    "print(\"\\nCost: \", get_cost(minimum_row_cost_allocation, cost))"
   ]
  },
  {
   "cell_type": "markdown",
   "metadata": {},
   "source": [
    "### 4. Vogel's method"
   ]
  },
  {
   "cell_type": "code",
   "execution_count": 100,
   "metadata": {},
   "outputs": [],
   "source": [
    "def calculate_row_penalties(costs, supply):\n",
    "    \"\"\"Calculate penalties for each row.\"\"\"\n",
    "    supply = supply.copy()\n",
    "    row_penalties = np.zeros(costs.shape[0])\n",
    "    for i in range(costs.shape[0]):\n",
    "        if supply[i] > 0:\n",
    "            row = costs[i, :]\n",
    "            sorted_row = np.sort(row)\n",
    "            if len(sorted_row) > 1:\n",
    "                row_penalties[i] = sorted_row[1] - sorted_row[0]\n",
    "            else:\n",
    "                row_penalties[i] = float('inf')\n",
    "    return row_penalties\n",
    "\n",
    "def calculate_column_penalties(costs, demand):\n",
    "    demand = demand.copy()\n",
    "    \"\"\"Calculate penalties for each column.\"\"\"\n",
    "    col_penalties = np.zeros(costs.shape[1])\n",
    "    for j in range(costs.shape[1]):\n",
    "        if demand[j] > 0:\n",
    "            col = costs[:, j]\n",
    "            sorted_col = np.sort(col)\n",
    "            if len(sorted_col) > 1:\n",
    "                col_penalties[j] = sorted_col[1] - sorted_col[0]\n",
    "            else:\n",
    "                col_penalties[j] = float('inf')\n",
    "    return col_penalties"
   ]
  },
  {
   "cell_type": "code",
   "execution_count": 101,
   "metadata": {},
   "outputs": [],
   "source": [
    "def vogels_approximation_method(supply, demand, costs):\n",
    "    # Convert the costs matrix to float to handle np.inf properly\n",
    "    supply = supply.copy()\n",
    "    demand = demand.copy()\n",
    "    costs = costs.astype(float)\n",
    "    \n",
    "    # Initialize the allocation matrix with zeros\n",
    "    allocation = np.zeros_like(costs, dtype=float)\n",
    "    \n",
    "    while np.any(supply > 0) and np.any(demand > 0):\n",
    "        # Step 1: Calculate penalties for rows and columns\n",
    "        row_penalties = calculate_row_penalties(costs, supply)\n",
    "        col_penalties = calculate_column_penalties(costs, demand)\n",
    "        \n",
    "        # Step 2: Find the highest penalty and the corresponding row/column\n",
    "        if np.max(row_penalties) >= np.max(col_penalties):\n",
    "            # Find the row with the maximum penalty\n",
    "            row_index = np.argmax(row_penalties)\n",
    "            col_index = np.argmin(costs[row_index, :])  # Find the column with the minimum cost\n",
    "        else:\n",
    "            # Find the column with the maximum penalty\n",
    "            col_index = np.argmax(col_penalties)\n",
    "            row_index = np.argmin(costs[:, col_index])  # Find the row with the minimum cost\n",
    "        \n",
    "        # Step 3: Allocate as much as possible to the cell\n",
    "        allocation_amount = min(supply[row_index], demand[col_index])\n",
    "        allocation[row_index, col_index] = allocation_amount\n",
    "        supply[row_index] -= allocation_amount\n",
    "        demand[col_index] -= allocation_amount\n",
    "        \n",
    "        # Step 4: If demand or supply is exhausted, set corresponding row/column to np.inf\n",
    "        if supply[row_index] == 0:\n",
    "            costs[row_index, :] = np.inf  # Set row to inf\n",
    "        if demand[col_index] == 0:\n",
    "            costs[:, col_index] = np.inf  # Set column to inf\n",
    "    \n",
    "    return allocation"
   ]
  },
  {
   "cell_type": "code",
   "execution_count": 102,
   "metadata": {},
   "outputs": [
    {
     "name": "stdout",
     "output_type": "stream",
     "text": [
      "\n",
      "Row Penalties\n",
      "[2. 2. 5.]\n",
      "\n",
      "Column Penalties\n",
      "[4. 5. 6. 2.]\n",
      "\n",
      "Vogel's Approximation Method\n",
      "[[  0.   0. 200. 300.]\n",
      " [  0. 700.   0.   0.]\n",
      " [400. 200.   0. 200.]]\n",
      "\n",
      "Cost:  12000.0\n"
     ]
    }
   ],
   "source": [
    "row_penalities = calculate_row_penalties(cost, supply)\n",
    "col_penalities = calculate_column_penalties(cost, demand)\n",
    "print(\"\\nRow Penalties\")\n",
    "print(row_penalities)\n",
    "print(\"\\nColumn Penalties\")\n",
    "print(col_penalities)\n",
    "\n",
    "vogels_allocation = vogels_approximation_method(supply, demand, cost)\n",
    "print(\"\\nVogel's Approximation Method\")\n",
    "print(vogels_allocation)\n",
    "\n",
    "print(\"\\nCost: \", get_cost(vogels_allocation, cost))"
   ]
  },
  {
   "cell_type": "markdown",
   "metadata": {},
   "source": [
    "## 3. Transportation Simplex"
   ]
  },
  {
   "cell_type": "code",
   "execution_count": 103,
   "metadata": {},
   "outputs": [
    {
     "name": "stdout",
     "output_type": "stream",
     "text": [
      "[500. 700. 800.]\n",
      "[400. 900. 200. 500.]\n",
      "[[12 13  4  6]\n",
      " [ 6  4 10 11]\n",
      " [10  9 12  4]]\n"
     ]
    }
   ],
   "source": [
    "print(supply)\n",
    "print(demand)\n",
    "print(cost)"
   ]
  },
  {
   "cell_type": "code",
   "execution_count": 104,
   "metadata": {},
   "outputs": [],
   "source": [
    "# Step 1 - Create helper functions for the transportation simplex method\n",
    "\n",
    "import numpy as np\n",
    "\n",
    "# Function to compute the u and v values (dual variables)\n",
    "def get_us_and_vs(bfs, costs):\n",
    "    us = [None] * len(costs)\n",
    "    vs = [None] * len(costs[0])\n",
    "    us[0] = 0\n",
    "    bfs_copy = bfs.copy()\n",
    "    \n",
    "    while len(bfs_copy) > 0:\n",
    "        for index, bv in enumerate(bfs_copy):\n",
    "            i, j = bv[0]\n",
    "            if us[i] is None and vs[j] is None: \n",
    "                continue\n",
    "            cost = costs[i][j]\n",
    "            if us[i] is None:\n",
    "                us[i] = cost - vs[j]\n",
    "            else:\n",
    "                vs[j] = cost - us[i]\n",
    "            bfs_copy.pop(index)\n",
    "            break\n",
    "    \n",
    "    return us, vs\n",
    "\n",
    "# Function to compute the reduced costs (opportunity costs) for non-basic variables\n",
    "def get_ws(bfs, costs, us, vs):\n",
    "    ws = []\n",
    "    for i, row in enumerate(costs):\n",
    "        for j, cost in enumerate(row):\n",
    "            non_basic = all([p[0] != i or p[1] != j for p, v in bfs])\n",
    "            if non_basic:\n",
    "                ws.append(((i, j), us[i] + vs[j] - cost))\n",
    "    \n",
    "    return ws\n",
    "\n",
    "# Check if there is any possibility of improving the solution\n",
    "def can_be_improved(ws):\n",
    "    for p, v in ws:\n",
    "        if v > 0: return True\n",
    "    return False\n",
    "\n",
    "# Get the position of the entering variable with the most positive reduced cost\n",
    "def get_entering_variable_position(ws):\n",
    "    ws_copy = ws.copy()\n",
    "    ws_copy.sort(key=lambda w: w[1])\n",
    "    return ws_copy[-1][0]\n",
    "\n",
    "# Helper function to find the possible next nodes in the loop\n",
    "def get_possible_next_nodes(loop, not_visited):\n",
    "    last_node = loop[-1]\n",
    "    nodes_in_row = [n for n in not_visited if n[0] == last_node[0]]\n",
    "    nodes_in_column = [n for n in not_visited if n[1] == last_node[1]]\n",
    "    if len(loop) < 2:\n",
    "        return nodes_in_row + nodes_in_column\n",
    "    else:\n",
    "        prev_node = loop[-2]\n",
    "        row_move = prev_node[0] == last_node[0]\n",
    "        if row_move: return nodes_in_column\n",
    "        return nodes_in_row\n",
    "\n",
    "\n",
    "def loop_pivoting(bfs, loop):\n",
    "    even_cells = loop[0::2]\n",
    "    odd_cells = loop[1::2]\n",
    "    get_bv = lambda pos: next(v for p, v in bfs if p == pos)\n",
    "    leaving_position = sorted(odd_cells, key=get_bv)[0]\n",
    "    leaving_value = get_bv(leaving_position)\n",
    "    \n",
    "    new_bfs = []\n",
    "    for p, v in [bv for bv in bfs if bv[0] != leaving_position] + [(loop[0], 0)]:\n",
    "        if p in even_cells:\n",
    "            v += leaving_value\n",
    "        elif p in odd_cells:\n",
    "            v -= leaving_value\n",
    "        new_bfs.append((p, v))\n",
    "        \n",
    "    return new_bfs\n",
    "    \n",
    "\n",
    "\n",
    "# Find the loop to apply pivoting (cycling through the basic variables)\n",
    "def get_loop(bv_positions, ev_position):\n",
    "    def inner(loop):\n",
    "        if len(loop) > 3:\n",
    "            can_be_closed = len(get_possible_next_nodes(loop, [ev_position])) == 1\n",
    "            if can_be_closed: return loop\n",
    "        \n",
    "        not_visited = list(set(bv_positions) - set(loop))\n",
    "        possible_next_nodes = get_possible_next_nodes(loop, not_visited)\n",
    "        for next_node in possible_next_nodes:\n",
    "            new_loop = inner(loop + [next_node])\n",
    "            if new_loop: return new_loop\n",
    "    \n",
    "    return inner([ev_position])\n",
    "\n",
    "# Step 2 - Implement the transportation simplex method\n",
    "def transportation_simplex_method(supply, demand, costs, initial_allocation):\n",
    "    # Helper function to get the basic feasible solution (from an initial allocation)\n",
    "    def get_basic_variables(initial_allocation):\n",
    "        bfs = []\n",
    "        for i in range(len(initial_allocation)):\n",
    "            for j in range(len(initial_allocation[i])):\n",
    "                if initial_allocation[i, j] > 0:\n",
    "                    bfs.append(((i, j), initial_allocation[i, j]))\n",
    "        return bfs\n",
    "\n",
    "    # Extract the basic variables (initial allocation)\n",
    "    bfs = get_basic_variables(initial_allocation)\n",
    "    \n",
    "    # Start the simplex algorithm\n",
    "    def inner(bfs):\n",
    "        us, vs = get_us_and_vs(bfs, costs)\n",
    "        ws = get_ws(bfs, costs, us, vs)\n",
    "        \n",
    "        # If there is an opportunity to improve the solution\n",
    "        if can_be_improved(ws):\n",
    "            ev_position = get_entering_variable_position(ws)\n",
    "            loop = get_loop([p for p, v in bfs], ev_position)\n",
    "            return inner(loop_pivoting(bfs, loop))  # Apply the pivoting to update BFS\n",
    "        return bfs\n",
    "\n",
    "    # Perform the transportation simplex method\n",
    "    bfs_optimized = inner(bfs)\n",
    "    \n",
    "    # Construct the optimized solution\n",
    "    optimized_allocation = np.zeros_like(costs)\n",
    "    for (i, j), v in bfs_optimized:\n",
    "        optimized_allocation[i][j] = v\n",
    "    \n",
    "    # Calculate the optimized total cost\n",
    "    optimized_cost = np.sum(optimized_allocation * costs)\n",
    "    \n",
    "    return optimized_allocation, optimized_cost"
   ]
  },
  {
   "cell_type": "code",
   "execution_count": 105,
   "metadata": {},
   "outputs": [
    {
     "name": "stdout",
     "output_type": "stream",
     "text": [
      "\n",
      "Optimized NWRC Allocation\n",
      "[[300   0 200   0]\n",
      " [  0 700   0   0]\n",
      " [100 200   0 500]]\n",
      "\n",
      "Cost:  12000\n",
      "\n",
      "Optimized MCM Allocation\n",
      "[[300   0 200   0]\n",
      " [  0 700   0   0]\n",
      " [100 200   0 500]]\n",
      "\n",
      "Cost:  12000\n",
      "\n",
      "Optimized MRCM Allocation\n",
      "[[  0   0 200 300]\n",
      " [  0 700   0   0]\n",
      " [400 200   0 200]]\n",
      "\n",
      "Cost:  12000\n",
      "\n",
      "Optimized VAM Allocation\n",
      "[[  0   0 200 300]\n",
      " [  0 700   0   0]\n",
      " [400 200   0 200]]\n",
      "\n",
      "Cost:  12000\n"
     ]
    }
   ],
   "source": [
    "# Step 3 - Apply to your existing method (use the NWCR, MCM, MRCM, or VAM allocation)\n",
    "\n",
    "NWRCallocation =  north_west_corner_allocation\n",
    "MCMallocation = minimum_cost_allocation\n",
    "MRCMallocation = minimum_row_cost_allocation\n",
    "VAMallocation = vogels_allocation\n",
    "\n",
    "# Apply the transportation simplex method to the initial allocations\n",
    "optimized_NWRC, optimized_cost_NWRC = transportation_simplex_method(supply, demand, cost, NWRCallocation)\n",
    "optimized_MCM, optimized_cost_MCM = transportation_simplex_method(supply, demand, cost, MCMallocation)\n",
    "optimized_MRCM, optimized_cost_MRCM = transportation_simplex_method(supply, demand, cost, MRCMallocation)\n",
    "optimized_VAM, optimized_cost_VAM = transportation_simplex_method(supply, demand, cost, VAMallocation)\n",
    "\n",
    "print(\"\\nOptimized NWRC Allocation\")\n",
    "print(optimized_NWRC)\n",
    "print(\"\\nCost: \", optimized_cost_NWRC)\n",
    "\n",
    "print(\"\\nOptimized MCM Allocation\")\n",
    "print(optimized_MCM)\n",
    "print(\"\\nCost: \", optimized_cost_MCM)\n",
    "\n",
    "print(\"\\nOptimized MRCM Allocation\")\n",
    "print(optimized_MRCM)\n",
    "print(\"\\nCost: \", optimized_cost_MRCM)\n",
    "\n",
    "print(\"\\nOptimized VAM Allocation\")\n",
    "print(optimized_VAM)\n",
    "print(\"\\nCost: \", optimized_cost_VAM)\n"
   ]
  }
 ],
 "metadata": {
  "kernelspec": {
   "display_name": "Python 3",
   "language": "python",
   "name": "python3"
  },
  "language_info": {
   "codemirror_mode": {
    "name": "ipython",
    "version": 3
   },
   "file_extension": ".py",
   "mimetype": "text/x-python",
   "name": "python",
   "nbconvert_exporter": "python",
   "pygments_lexer": "ipython3",
   "version": "3.12.6"
  }
 },
 "nbformat": 4,
 "nbformat_minor": 2
}
