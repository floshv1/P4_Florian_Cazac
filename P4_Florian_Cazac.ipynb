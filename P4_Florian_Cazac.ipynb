{
 "cells": [
  {
   "cell_type": "markdown",
   "metadata": {},
   "source": [
    "# P4_Florian_Cazac\n",
    "## Transportation problem\n",
    "\n",
    "1. Read an external file containing the parameters of a transportation problem LP problem\n",
    "2. Different methods can be used to find the initial feasible solution for the problem:\n",
    "    * Northwest corner rule\n",
    "    * Minimum cost method\n",
    "    * Minimum Row cost method\n",
    "    * Vogel's method\n",
    "3. the transportation simplex algorithm in an arbitrary transportation problem. "
   ]
  },
  {
   "cell_type": "code",
   "execution_count": 177,
   "metadata": {},
   "outputs": [],
   "source": [
    "import pandas as pd\n",
    "import numpy as np"
   ]
  },
  {
   "cell_type": "markdown",
   "metadata": {},
   "source": [
    "## Read a file containing the parameters of a transportation problem LP problem"
   ]
  },
  {
   "cell_type": "code",
   "execution_count": 178,
   "metadata": {},
   "outputs": [],
   "source": [
    "filename = 'transportation_problem.csv'"
   ]
  },
  {
   "cell_type": "code",
   "execution_count": 179,
   "metadata": {},
   "outputs": [],
   "source": [
    "data = pd.read_csv(filename, index_col=0)\n",
    "supply = data['Supply'][:-1].to_numpy()\n",
    "demand = data.loc[\"Demand\"].drop(\"Supply\").to_numpy()\n",
    "cost = data.iloc[:-1, :-1].to_numpy()\n"
   ]
  },
  {
   "cell_type": "markdown",
   "metadata": {},
   "source": [
    "## Different methods can be used to find the initial feasible solution"
   ]
  },
  {
   "cell_type": "markdown",
   "metadata": {},
   "source": [
    "### 1. Northwest corner rule"
   ]
  },
  {
   "cell_type": "code",
   "execution_count": 180,
   "metadata": {},
   "outputs": [],
   "source": [
    "# North West Corner Method\n",
    "\n",
    "def north_west_corner(supply, demand):\n",
    "    supply = supply.copy()\n",
    "    demand = demand.copy()\n",
    "    i = 0\n",
    "    j = 0\n",
    "    allocation = np.zeros((supply.size, demand.size))\n",
    "    while i < supply.size and j < demand.size:\n",
    "        if supply[i] < demand[j]:\n",
    "            allocation[i][j] = supply[i]\n",
    "            demand[j] -= supply[i]\n",
    "            i += 1\n",
    "        else:\n",
    "            allocation[i][j] = demand[j]\n",
    "            supply[i] -= demand[j]\n",
    "            j += 1\n",
    "    return allocation\n",
    "\n",
    "def get_cost(allocation, cost):\n",
    "    return np.sum(allocation * cost)"
   ]
  },
  {
   "cell_type": "code",
   "execution_count": 181,
   "metadata": {},
   "outputs": [
    {
     "name": "stdout",
     "output_type": "stream",
     "text": [
      "NorthWest Corner Method\n",
      "[[400. 100.   0.   0.]\n",
      " [  0. 700.   0.   0.]\n",
      " [  0. 100. 200. 500.]]\n",
      "\n",
      "Cost:  14200.0\n"
     ]
    }
   ],
   "source": [
    "north_west_corner_allocation = north_west_corner(supply, demand)\n",
    "print(\"NorthWest Corner Method\")\n",
    "print(north_west_corner_allocation)\n",
    "print(\"\\nCost: \", get_cost(north_west_corner_allocation, cost))"
   ]
  },
  {
   "cell_type": "markdown",
   "metadata": {},
   "source": [
    "### 2. Minimum cost method"
   ]
  },
  {
   "cell_type": "code",
   "execution_count": 182,
   "metadata": {},
   "outputs": [],
   "source": [
    "# Minimum Cost Method\n",
    "\n",
    "def minimum_cost_method(supply, demand, costs):\n",
    "    supply = supply.copy()\n",
    "    demand = demand.copy()\n",
    "    allocation = np.zeros_like(costs, dtype=float)  # Allocation matrix\n",
    "    \n",
    "    # Get the indices of costs in ascending order\n",
    "    cost_indices = np.dstack(np.unravel_index(np.argsort(costs, axis=None), costs.shape))[0]\n",
    "    \n",
    "    for i, j in cost_indices:\n",
    "        if supply[i] == 0 or demand[j] == 0:  # Skip exhausted rows/columns\n",
    "            continue\n",
    "        \n",
    "        # Allocate as much as possible to the minimum cost cell\n",
    "        allocated = min(supply[i], demand[j])\n",
    "        allocation[i, j] = allocated\n",
    "        supply[i] -= allocated\n",
    "        demand[j] -= allocated\n",
    "    \n",
    "    return allocation\n"
   ]
  },
  {
   "cell_type": "code",
   "execution_count": 183,
   "metadata": {},
   "outputs": [
    {
     "name": "stdout",
     "output_type": "stream",
     "text": [
      "\n",
      "Minimum Cost Method\n",
      "[[300.   0. 200.   0.]\n",
      " [  0. 700.   0.   0.]\n",
      " [100. 200.   0. 500.]]\n",
      "\n",
      "Cost:  12000.0\n"
     ]
    }
   ],
   "source": [
    "minimum_cost_allocation = minimum_cost_method(supply, demand, cost)\n",
    "print(\"\\nMinimum Cost Method\")\n",
    "print(minimum_cost_allocation)\n",
    "print(\"\\nCost: \", get_cost(minimum_cost_allocation, cost))"
   ]
  },
  {
   "cell_type": "markdown",
   "metadata": {},
   "source": [
    "### 3. Minimum Row cost method"
   ]
  },
  {
   "cell_type": "markdown",
   "metadata": {},
   "source": [
    "### 4. Vogel's method"
   ]
  }
 ],
 "metadata": {
  "kernelspec": {
   "display_name": "Python 3",
   "language": "python",
   "name": "python3"
  },
  "language_info": {
   "codemirror_mode": {
    "name": "ipython",
    "version": 3
   },
   "file_extension": ".py",
   "mimetype": "text/x-python",
   "name": "python",
   "nbconvert_exporter": "python",
   "pygments_lexer": "ipython3",
   "version": "3.12.6"
  }
 },
 "nbformat": 4,
 "nbformat_minor": 2
}
