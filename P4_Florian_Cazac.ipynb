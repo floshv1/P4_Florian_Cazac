{
 "cells": [
  {
   "cell_type": "markdown",
   "metadata": {},
   "source": [
    "# P4_Florian_Cazac\n",
    "## Transportation problem\n",
    "\n",
    "1. Read an external file containing the parameters of a transportation problem LP problem\n",
    "2. Different methods can be used to find the initial feasible solution for the problem:\n",
    "    * Northwest corner rule\n",
    "    * Minimum cost method\n",
    "    * Minimum Row cost method\n",
    "    * Vogel's method\n",
    "3. the transportation simplex algorithm in an arbitrary transportation problem. "
   ]
  },
  {
   "cell_type": "code",
   "execution_count": 460,
   "metadata": {},
   "outputs": [],
   "source": [
    "import pandas as pd\n",
    "import numpy as np"
   ]
  },
  {
   "cell_type": "markdown",
   "metadata": {},
   "source": [
    "## 1. Read a file containing the parameters of a transportation problem LP problem"
   ]
  },
  {
   "cell_type": "code",
   "execution_count": 461,
   "metadata": {},
   "outputs": [],
   "source": [
    "filename = 'transportation_problem.csv'"
   ]
  },
  {
   "cell_type": "code",
   "execution_count": 462,
   "metadata": {},
   "outputs": [
    {
     "name": "stdout",
     "output_type": "stream",
     "text": [
      "         D1   D2   D3   D4  Supply\n",
      "\\                                 \n",
      "S1       12   13    4    6   500.0\n",
      "S2        6    4   10   11   700.0\n",
      "S3       10    9   12    4   800.0\n",
      "Demand  400  900  200  500     NaN\n",
      "Supply: [500. 700. 800.]\n",
      "Demand: [400. 900. 200. 500.]\n",
      "Cost: [[12 13  4  6]\n",
      " [ 6  4 10 11]\n",
      " [10  9 12  4]]\n"
     ]
    }
   ],
   "source": [
    "data = pd.read_csv(filename, index_col=0)\n",
    "print(data)\n",
    "\n",
    "supply = data['Supply'][:-1].to_numpy()\n",
    "demand = data.loc[\"Demand\"].drop(\"Supply\").to_numpy()\n",
    "cost = data.iloc[:-1, :-1].to_numpy()\n",
    "\n",
    "print(\"Supply:\", supply)\n",
    "print(\"Demand:\", demand)\n",
    "print(\"Cost:\", cost)\n"
   ]
  },
  {
   "cell_type": "markdown",
   "metadata": {},
   "source": [
    "## 2. Different methods can be used to find the initial feasible solution"
   ]
  },
  {
   "cell_type": "markdown",
   "metadata": {},
   "source": [
    "### 1. Northwest corner rule"
   ]
  },
  {
   "cell_type": "code",
   "execution_count": 463,
   "metadata": {},
   "outputs": [],
   "source": [
    "# North West Corner Method\n",
    "\n",
    "def north_west_corner(supply, demand):\n",
    "    supply = supply.copy()\n",
    "    demand = demand.copy()\n",
    "    i = 0\n",
    "    j = 0\n",
    "    allocation = np.zeros((supply.size, demand.size))\n",
    "    while i < supply.size and j < demand.size:\n",
    "        if supply[i] < demand[j]:\n",
    "            allocation[i][j] = supply[i]\n",
    "            demand[j] -= supply[i]\n",
    "            i += 1\n",
    "        else:\n",
    "            allocation[i][j] = demand[j]\n",
    "            supply[i] -= demand[j]\n",
    "            j += 1\n",
    "    return allocation\n",
    "\n",
    "def get_cost(allocation, cost):\n",
    "    return np.sum(allocation * cost)"
   ]
  },
  {
   "cell_type": "code",
   "execution_count": 464,
   "metadata": {},
   "outputs": [
    {
     "name": "stdout",
     "output_type": "stream",
     "text": [
      "NorthWest Corner Method\n",
      "[[400. 100.   0.   0.]\n",
      " [  0. 700.   0.   0.]\n",
      " [  0. 100. 200. 500.]]\n",
      "\n",
      "Cost:  14200.0\n"
     ]
    }
   ],
   "source": [
    "north_west_corner_allocation = north_west_corner(supply, demand)\n",
    "print(\"NorthWest Corner Method\")\n",
    "print(north_west_corner_allocation)\n",
    "print(\"\\nCost: \", get_cost(north_west_corner_allocation, cost))"
   ]
  },
  {
   "cell_type": "markdown",
   "metadata": {},
   "source": [
    "### 2. Minimum cost method"
   ]
  },
  {
   "cell_type": "code",
   "execution_count": 465,
   "metadata": {},
   "outputs": [],
   "source": [
    "# Minimum Cost Method\n",
    "\n",
    "def minimum_cost_method(supply, demand, costs):\n",
    "    supply = supply.copy()\n",
    "    demand = demand.copy()\n",
    "    allocation = np.zeros_like(costs, dtype=float)  # Allocation matrix\n",
    "    \n",
    "    # Get the indices of costs in ascending order\n",
    "    cost_indices = np.dstack(np.unravel_index(np.argsort(costs, axis=None), costs.shape))[0]\n",
    "    \n",
    "    for i, j in cost_indices:\n",
    "        if supply[i] == 0 or demand[j] == 0:  # Skip exhausted rows/columns\n",
    "            continue\n",
    "        \n",
    "        # Allocate as much as possible to the minimum cost cell\n",
    "        allocated = min(supply[i], demand[j])\n",
    "        allocation[i, j] = allocated\n",
    "        supply[i] -= allocated\n",
    "        demand[j] -= allocated\n",
    "    \n",
    "    return allocation\n"
   ]
  },
  {
   "cell_type": "code",
   "execution_count": 466,
   "metadata": {},
   "outputs": [
    {
     "name": "stdout",
     "output_type": "stream",
     "text": [
      "\n",
      "Minimum Cost Method\n",
      "[[300.   0. 200.   0.]\n",
      " [  0. 700.   0.   0.]\n",
      " [100. 200.   0. 500.]]\n",
      "\n",
      "Cost:  12000.0\n"
     ]
    }
   ],
   "source": [
    "minimum_cost_allocation = minimum_cost_method(supply, demand, cost)\n",
    "print(\"\\nMinimum Cost Method\")\n",
    "print(minimum_cost_allocation)\n",
    "print(\"\\nCost: \", get_cost(minimum_cost_allocation, cost))"
   ]
  },
  {
   "cell_type": "markdown",
   "metadata": {},
   "source": [
    "### 3. Minimum Row cost method"
   ]
  },
  {
   "cell_type": "code",
   "execution_count": 467,
   "metadata": {},
   "outputs": [],
   "source": [
    "def minimum_row_cost_method(supply, demand, cost_matrix):\n",
    "    \"\"\"\n",
    "    Solves the transportation problem using the Minimum Row Cost Method.\n",
    "    \n",
    "    Args:\n",
    "    cost_matrix (list of lists): The cost matrix (rows: suppliers, columns: destinations).\n",
    "    supply (list): Available supply at each source.\n",
    "    demand (list): Required demand at each destination.\n",
    "    \n",
    "    Returns:\n",
    "    allocation (2D list): Initial feasible allocation matrix.\n",
    "    \"\"\"\n",
    "    cost_matrix = np.array(cost_matrix, dtype=float)\n",
    "    supply = supply.copy()  # Avoid modifying the original list\n",
    "    demand = demand.copy()  # Avoid modifying the original list\n",
    "    rows, cols = cost_matrix.shape\n",
    "    allocation = np.zeros((rows, cols), dtype=float)\n",
    "    \n",
    "    for i in range(rows):\n",
    "        while supply[i] > 0:  # While there is supply at row i\n",
    "            # Find the column with the minimum cost in the current row\n",
    "            min_cost_index = np.argmin(cost_matrix[i, :])\n",
    "            \n",
    "            # Allocate as much as possible to the selected cell\n",
    "            allocation_quantity = min(supply[i], demand[min_cost_index])\n",
    "            allocation[i, min_cost_index] = allocation_quantity\n",
    "            \n",
    "            # Update supply and demand\n",
    "            supply[i] -= allocation_quantity\n",
    "            demand[min_cost_index] -= allocation_quantity\n",
    "            \n",
    "            # If demand is met, set the cost to infinity for that column\n",
    "            if demand[min_cost_index] == 0:\n",
    "                cost_matrix[:, min_cost_index] = np.inf\n",
    "\n",
    "    return allocation"
   ]
  },
  {
   "cell_type": "code",
   "execution_count": 468,
   "metadata": {},
   "outputs": [
    {
     "name": "stdout",
     "output_type": "stream",
     "text": [
      "\n",
      "Minimum Row Cost Method\n",
      "[[  0.   0. 200. 300.]\n",
      " [  0. 700.   0.   0.]\n",
      " [400. 200.   0. 200.]]\n",
      "\n",
      "Cost:  12000.0\n"
     ]
    }
   ],
   "source": [
    "minimum_row_cost_allocation = minimum_row_cost_method(supply, demand, cost)\n",
    "print(\"\\nMinimum Row Cost Method\")\n",
    "print(minimum_row_cost_allocation)\n",
    "print(\"\\nCost: \", get_cost(minimum_row_cost_allocation, cost))"
   ]
  },
  {
   "cell_type": "markdown",
   "metadata": {},
   "source": [
    "### 4. Vogel's method"
   ]
  },
  {
   "cell_type": "code",
   "execution_count": 469,
   "metadata": {},
   "outputs": [],
   "source": [
    "def calculate_row_penalties(costs, supply):\n",
    "    \"\"\"Calculate penalties for each row.\"\"\"\n",
    "    supply = supply.copy()\n",
    "    row_penalties = np.zeros(costs.shape[0])\n",
    "    for i in range(costs.shape[0]):\n",
    "        if supply[i] > 0:\n",
    "            row = costs[i, :]\n",
    "            sorted_row = np.sort(row)\n",
    "            if len(sorted_row) > 1:\n",
    "                row_penalties[i] = sorted_row[1] - sorted_row[0]\n",
    "            else:\n",
    "                row_penalties[i] = float('inf')\n",
    "    return row_penalties\n",
    "\n",
    "def calculate_column_penalties(costs, demand):\n",
    "    demand = demand.copy()\n",
    "    \"\"\"Calculate penalties for each column.\"\"\"\n",
    "    col_penalties = np.zeros(costs.shape[1])\n",
    "    for j in range(costs.shape[1]):\n",
    "        if demand[j] > 0:\n",
    "            col = costs[:, j]\n",
    "            sorted_col = np.sort(col)\n",
    "            if len(sorted_col) > 1:\n",
    "                col_penalties[j] = sorted_col[1] - sorted_col[0]\n",
    "            else:\n",
    "                col_penalties[j] = float('inf')\n",
    "    return col_penalties"
   ]
  },
  {
   "cell_type": "code",
   "execution_count": 470,
   "metadata": {},
   "outputs": [],
   "source": [
    "def vogels_approximation_method(supply, demand, costs):\n",
    "    # Convert the costs matrix to float to handle np.inf properly\n",
    "    supply = supply.copy()\n",
    "    demand = demand.copy()\n",
    "    costs = costs.astype(float)\n",
    "    \n",
    "    # Initialize the allocation matrix with zeros\n",
    "    allocation = np.zeros_like(costs, dtype=float)\n",
    "    \n",
    "    while np.any(supply > 0) and np.any(demand > 0):\n",
    "        # Step 1: Calculate penalties for rows and columns\n",
    "        row_penalties = calculate_row_penalties(costs, supply)\n",
    "        col_penalties = calculate_column_penalties(costs, demand)\n",
    "        \n",
    "        # Step 2: Find the highest penalty and the corresponding row/column\n",
    "        if np.max(row_penalties) >= np.max(col_penalties):\n",
    "            # Find the row with the maximum penalty\n",
    "            row_index = np.argmax(row_penalties)\n",
    "            col_index = np.argmin(costs[row_index, :])  # Find the column with the minimum cost\n",
    "        else:\n",
    "            # Find the column with the maximum penalty\n",
    "            col_index = np.argmax(col_penalties)\n",
    "            row_index = np.argmin(costs[:, col_index])  # Find the row with the minimum cost\n",
    "        \n",
    "        # Step 3: Allocate as much as possible to the cell\n",
    "        allocation_amount = min(supply[row_index], demand[col_index])\n",
    "        allocation[row_index, col_index] = allocation_amount\n",
    "        supply[row_index] -= allocation_amount\n",
    "        demand[col_index] -= allocation_amount\n",
    "        \n",
    "        # Step 4: If demand or supply is exhausted, set corresponding row/column to np.inf\n",
    "        if supply[row_index] == 0:\n",
    "            costs[row_index, :] = np.inf  # Set row to inf\n",
    "        if demand[col_index] == 0:\n",
    "            costs[:, col_index] = np.inf  # Set column to inf\n",
    "    \n",
    "    return allocation"
   ]
  },
  {
   "cell_type": "code",
   "execution_count": 471,
   "metadata": {},
   "outputs": [
    {
     "name": "stdout",
     "output_type": "stream",
     "text": [
      "\n",
      "Row Penalties\n",
      "[2. 2. 5.]\n",
      "\n",
      "Column Penalties\n",
      "[4. 5. 6. 2.]\n",
      "\n",
      "Vogel's Approximation Method\n",
      "[[  0.   0. 200. 300.]\n",
      " [  0. 700.   0.   0.]\n",
      " [400. 200.   0. 200.]]\n",
      "\n",
      "Cost:  12000.0\n"
     ]
    }
   ],
   "source": [
    "row_penalities = calculate_row_penalties(cost, supply)\n",
    "col_penalities = calculate_column_penalties(cost, demand)\n",
    "print(\"\\nRow Penalties\")\n",
    "print(row_penalities)\n",
    "print(\"\\nColumn Penalties\")\n",
    "print(col_penalities)\n",
    "\n",
    "vogels_allocation = vogels_approximation_method(supply, demand, cost)\n",
    "print(\"\\nVogel's Approximation Method\")\n",
    "print(vogels_allocation)\n",
    "\n",
    "print(\"\\nCost: \", get_cost(vogels_allocation, cost))"
   ]
  },
  {
   "cell_type": "markdown",
   "metadata": {},
   "source": [
    "## 3. Transportation Simplex"
   ]
  },
  {
   "cell_type": "code",
   "execution_count": 473,
   "metadata": {},
   "outputs": [],
   "source": [
    "def get_us_and_vs(bfs, costs):\n",
    "    us = np.full(len(costs), None)  # Initialize us as a numpy array with None values\n",
    "    vs = np.full(len(costs[0]), None)  # Initialize vs as a numpy array with None values\n",
    "    us[0] = 0  # Assign u[0] = 0 as per the MODI method\n",
    "    \n",
    "    bfs_copy = bfs.copy()  # Create a copy of bfs for iteration\n",
    "    rows, cols = bfs.shape  # Get the shape of the matrix (number of rows and columns)\n",
    "    \n",
    "    # Iterate over the bfs matrix to calculate us and vs\n",
    "    while np.any(bfs_copy != 0):  # Continue while there are still allocations (non-zero values)\n",
    "        for i in range(rows):\n",
    "            for j in range(cols):\n",
    "                if bfs_copy[i, j] != 0:  # If there's an allocation (non-zero value)\n",
    "                    cost = costs[i, j]\n",
    "                    if us[i] is None and vs[j] is None:\n",
    "                        continue  # Skip if both us[i] and vs[j] are None\n",
    "                    elif us[i] is None:  # If us[i] is None, calculate it using vs[j]\n",
    "                        us[i] = cost - vs[j]\n",
    "                    elif vs[j] is None:  # If vs[j] is None, calculate it using us[i]\n",
    "                        vs[j] = cost - us[i]\n",
    "                    bfs_copy[i, j] = 0  # Set this allocation to zero (processed)\n",
    "                    break  # Exit the loop after processing an allocation\n",
    "        # Repeat the process until no more allocations are left\n",
    "\n",
    "    return us, vs"
   ]
  },
  {
   "cell_type": "code",
   "execution_count": 474,
   "metadata": {},
   "outputs": [],
   "source": [
    "def get_ws(bfs, costs, us, vs):\n",
    "    ws = []\n",
    "    bfs_indices = np.argwhere(bfs != 0)  # Get indices where there is an allocation (non-zero)\n",
    "    bfs_set = set(map(tuple, bfs_indices))  # Convert list of indices to a set for quick look-up\n",
    "    \n",
    "    rows, cols = costs.shape  # Get the shape of the cost matrix\n",
    "    \n",
    "    for i in range(rows):\n",
    "        for j in range(cols):\n",
    "            if (i, j) not in bfs_set:  # If the cell (i, j) is not part of the basic feasible solution\n",
    "                ws_value = us[i] + vs[j] - costs[i, j]\n",
    "                ws.append(((i, j), ws_value))  # Append the index and the calculated ws value\n",
    "                \n",
    "    return ws"
   ]
  }
 ],
 "metadata": {
  "kernelspec": {
   "display_name": "Python 3",
   "language": "python",
   "name": "python3"
  },
  "language_info": {
   "codemirror_mode": {
    "name": "ipython",
    "version": 3
   },
   "file_extension": ".py",
   "mimetype": "text/x-python",
   "name": "python",
   "nbconvert_exporter": "python",
   "pygments_lexer": "ipython3",
   "version": "3.12.6"
  }
 },
 "nbformat": 4,
 "nbformat_minor": 2
}
